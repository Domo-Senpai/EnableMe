{
 "cells": [
  {
   "cell_type": "code",
   "execution_count": 6,
   "id": "initial_id",
   "metadata": {
    "collapsed": true,
    "ExecuteTime": {
     "end_time": "2024-03-16T16:04:12.988956264Z",
     "start_time": "2024-03-16T16:04:12.920345280Z"
    }
   },
   "outputs": [],
   "source": [
    "import streamlit as st\n",
    "from hugchat import hugchat\n",
    "from hugchat.login import Login"
   ]
  },
  {
   "cell_type": "code",
   "outputs": [],
   "source": [
    "def generate_response(prompt_input, email, passwd):\n",
    "    # Hugging Face Login\n",
    "    sign = Login(email, passwd)\n",
    "    cookies = sign.login()\n",
    "    # Create ChatBot                        \n",
    "    chatbot = hugchat.ChatBot(cookies=cookies.get_dict())\n",
    "    return chatbot.chat(prompt_input)"
   ],
   "metadata": {
    "collapsed": false,
    "ExecuteTime": {
     "end_time": "2024-03-16T16:06:28.710559118Z",
     "start_time": "2024-03-16T16:06:28.667381449Z"
    }
   },
   "id": "d1070a587377e980",
   "execution_count": 10
  },
  {
   "cell_type": "code",
   "outputs": [
    {
     "name": "stderr",
     "output_type": "stream",
     "text": [
      "2024-03-16 17:03:45.353 \n",
      "  \u001B[33m\u001B[1mWarning:\u001B[0m to view this Streamlit app on a browser, run it with the following\n",
      "  command:\n",
      "\n",
      "    streamlit run /home/kalista-peacer/anaconda3/envs/llama/lib/python3.8/site-packages/ipykernel_launcher.py [ARGUMENTS]\n"
     ]
    }
   ],
   "source": [
    "\n",
    "st.title('🎈 App Name')\n",
    "\n",
    "st.write('Hello world!')"
   ],
   "metadata": {
    "collapsed": false,
    "ExecuteTime": {
     "end_time": "2024-03-16T16:03:45.359276575Z",
     "start_time": "2024-03-16T16:03:45.314163093Z"
    }
   },
   "id": "d2785b7ec58f23ff",
   "execution_count": 5
  },
  {
   "cell_type": "code",
   "outputs": [
    {
     "ename": "FileNotFoundError",
     "evalue": "No secrets files found. Valid paths for a secrets.toml file are: /home/kalista-peacer/.streamlit/secrets.toml, /home/kalista-peacer/PycharmProjects/EnableMe/.streamlit/secrets.toml",
     "output_type": "error",
     "traceback": [
      "\u001B[0;31m---------------------------------------------------------------------------\u001B[0m",
      "\u001B[0;31mFileNotFoundError\u001B[0m                         Traceback (most recent call last)",
      "Cell \u001B[0;32mIn[7], line 4\u001B[0m\n\u001B[1;32m      2\u001B[0m \u001B[38;5;28;01mwith\u001B[39;00m st\u001B[38;5;241m.\u001B[39msidebar:\n\u001B[1;32m      3\u001B[0m     st\u001B[38;5;241m.\u001B[39mtitle(\u001B[38;5;124m'\u001B[39m\u001B[38;5;124m🤗💬 HugChat\u001B[39m\u001B[38;5;124m'\u001B[39m)\n\u001B[0;32m----> 4\u001B[0m     \u001B[38;5;28;01mif\u001B[39;00m (\u001B[38;5;124;43m'\u001B[39;49m\u001B[38;5;124;43mEMAIL\u001B[39;49m\u001B[38;5;124;43m'\u001B[39;49m\u001B[43m \u001B[49m\u001B[38;5;129;43;01min\u001B[39;49;00m\u001B[43m \u001B[49m\u001B[43mst\u001B[49m\u001B[38;5;241;43m.\u001B[39;49m\u001B[43msecrets\u001B[49m) \u001B[38;5;129;01mand\u001B[39;00m (\u001B[38;5;124m'\u001B[39m\u001B[38;5;124mPASS\u001B[39m\u001B[38;5;124m'\u001B[39m \u001B[38;5;129;01min\u001B[39;00m st\u001B[38;5;241m.\u001B[39msecrets):\n\u001B[1;32m      5\u001B[0m         st\u001B[38;5;241m.\u001B[39msuccess(\u001B[38;5;124m'\u001B[39m\u001B[38;5;124mHuggingFace Login credentials already provided!\u001B[39m\u001B[38;5;124m'\u001B[39m, icon\u001B[38;5;241m=\u001B[39m\u001B[38;5;124m'\u001B[39m\u001B[38;5;124m✅\u001B[39m\u001B[38;5;124m'\u001B[39m)\n\u001B[1;32m      6\u001B[0m         hf_email \u001B[38;5;241m=\u001B[39m st\u001B[38;5;241m.\u001B[39msecrets[\u001B[38;5;124m'\u001B[39m\u001B[38;5;124mEMAIL\u001B[39m\u001B[38;5;124m'\u001B[39m]\n",
      "File \u001B[0;32m~/anaconda3/envs/llama/lib/python3.8/site-packages/streamlit/runtime/secrets.py:345\u001B[0m, in \u001B[0;36mSecrets.__contains__\u001B[0;34m(self, key)\u001B[0m\n\u001B[1;32m    343\u001B[0m \u001B[38;5;28;01mdef\u001B[39;00m \u001B[38;5;21m__contains__\u001B[39m(\u001B[38;5;28mself\u001B[39m, key: Any) \u001B[38;5;241m-\u001B[39m\u001B[38;5;241m>\u001B[39m \u001B[38;5;28mbool\u001B[39m:\n\u001B[1;32m    344\u001B[0m \u001B[38;5;250m    \u001B[39m\u001B[38;5;124;03m\"\"\"True if the given key is in the dict. Thread-safe.\"\"\"\u001B[39;00m\n\u001B[0;32m--> 345\u001B[0m     \u001B[38;5;28;01mreturn\u001B[39;00m key \u001B[38;5;129;01min\u001B[39;00m \u001B[38;5;28;43mself\u001B[39;49m\u001B[38;5;241;43m.\u001B[39;49m\u001B[43m_parse\u001B[49m\u001B[43m(\u001B[49m\u001B[38;5;28;43;01mTrue\u001B[39;49;00m\u001B[43m)\u001B[49m\n",
      "File \u001B[0;32m~/anaconda3/envs/llama/lib/python3.8/site-packages/streamlit/runtime/secrets.py:214\u001B[0m, in \u001B[0;36mSecrets._parse\u001B[0;34m(self, print_exceptions)\u001B[0m\n\u001B[1;32m    212\u001B[0m     \u001B[38;5;28;01mif\u001B[39;00m print_exceptions:\n\u001B[1;32m    213\u001B[0m         st\u001B[38;5;241m.\u001B[39merror(err_msg)\n\u001B[0;32m--> 214\u001B[0m     \u001B[38;5;28;01mraise\u001B[39;00m \u001B[38;5;167;01mFileNotFoundError\u001B[39;00m(err_msg)\n\u001B[1;32m    216\u001B[0m \u001B[38;5;28;01mif\u001B[39;00m \u001B[38;5;28mlen\u001B[39m([p \u001B[38;5;28;01mfor\u001B[39;00m p \u001B[38;5;129;01min\u001B[39;00m \u001B[38;5;28mself\u001B[39m\u001B[38;5;241m.\u001B[39m_file_paths \u001B[38;5;28;01mif\u001B[39;00m os\u001B[38;5;241m.\u001B[39mpath\u001B[38;5;241m.\u001B[39mexists(p)]) \u001B[38;5;241m>\u001B[39m \u001B[38;5;241m1\u001B[39m:\n\u001B[1;32m    217\u001B[0m     _LOGGER\u001B[38;5;241m.\u001B[39minfo(\n\u001B[1;32m    218\u001B[0m         \u001B[38;5;124mf\u001B[39m\u001B[38;5;124m\"\u001B[39m\u001B[38;5;124mSecrets found in multiple locations: \u001B[39m\u001B[38;5;132;01m{\u001B[39;00m\u001B[38;5;124m'\u001B[39m\u001B[38;5;124m, \u001B[39m\u001B[38;5;124m'\u001B[39m\u001B[38;5;241m.\u001B[39mjoin(\u001B[38;5;28mself\u001B[39m\u001B[38;5;241m.\u001B[39m_file_paths)\u001B[38;5;132;01m}\u001B[39;00m\u001B[38;5;124m. \u001B[39m\u001B[38;5;124m\"\u001B[39m\n\u001B[1;32m    219\u001B[0m         \u001B[38;5;124m\"\u001B[39m\u001B[38;5;124mWhen multiple secret.toml files exist, local secrets will take precedence over global secrets.\u001B[39m\u001B[38;5;124m\"\u001B[39m\n\u001B[1;32m    220\u001B[0m     )\n",
      "\u001B[0;31mFileNotFoundError\u001B[0m: No secrets files found. Valid paths for a secrets.toml file are: /home/kalista-peacer/.streamlit/secrets.toml, /home/kalista-peacer/PycharmProjects/EnableMe/.streamlit/secrets.toml"
     ]
    }
   ],
   "source": [
    "st.set_page_config(page_title=\"🤗💬 HugChat\")\n",
    "with st.sidebar:\n",
    "    st.title('🤗💬 HugChat')\n",
    "    if ('EMAIL' in st.secrets) and ('PASS' in st.secrets):\n",
    "        st.success('HuggingFace Login credentials already provided!', icon='✅')\n",
    "        hf_email = st.secrets['EMAIL']\n",
    "        hf_pass = st.secrets['PASS']\n",
    "    else:\n",
    "        hf_email = st.text_input('Enter E-mail:', type='password')\n",
    "        hf_pass = st.text_input('Enter password:', type='password')\n",
    "        if not (hf_email and hf_pass):\n",
    "            st.warning('Please enter your credentials!', icon='⚠️')\n",
    "        else:\n",
    "            st.success('Proceed to entering your prompt message!', icon='👉')\n",
    "    st.markdown('📖 Learn how to build this app in this [blog](https://blog.streamlit.io/how-to-build-an-llm-powered-chatbot-with-streamlit/)!')"
   ],
   "metadata": {
    "collapsed": false,
    "ExecuteTime": {
     "end_time": "2024-03-16T16:04:41.484635568Z",
     "start_time": "2024-03-16T16:04:41.395527508Z"
    }
   },
   "id": "4b421a2996d7523e",
   "execution_count": 7
  },
  {
   "cell_type": "code",
   "outputs": [
    {
     "ename": "AttributeError",
     "evalue": "st.session_state has no attribute \"messages\". Did you forget to initialize it? More info: https://docs.streamlit.io/library/advanced-features/session-state#initialization",
     "output_type": "error",
     "traceback": [
      "\u001B[0;31m---------------------------------------------------------------------------\u001B[0m",
      "\u001B[0;31mKeyError\u001B[0m                                  Traceback (most recent call last)",
      "File \u001B[0;32m~/anaconda3/envs/llama/lib/python3.8/site-packages/streamlit/runtime/state/session_state.py:398\u001B[0m, in \u001B[0;36mSessionState.__getitem__\u001B[0;34m(self, key)\u001B[0m\n\u001B[1;32m    397\u001B[0m \u001B[38;5;28;01mtry\u001B[39;00m:\n\u001B[0;32m--> 398\u001B[0m     \u001B[38;5;28;01mreturn\u001B[39;00m \u001B[38;5;28;43mself\u001B[39;49m\u001B[38;5;241;43m.\u001B[39;49m\u001B[43m_getitem\u001B[49m\u001B[43m(\u001B[49m\u001B[43mwidget_id\u001B[49m\u001B[43m,\u001B[49m\u001B[43m \u001B[49m\u001B[43mkey\u001B[49m\u001B[43m)\u001B[49m\n\u001B[1;32m    399\u001B[0m \u001B[38;5;28;01mexcept\u001B[39;00m \u001B[38;5;167;01mKeyError\u001B[39;00m:\n",
      "File \u001B[0;32m~/anaconda3/envs/llama/lib/python3.8/site-packages/streamlit/runtime/state/session_state.py:443\u001B[0m, in \u001B[0;36mSessionState._getitem\u001B[0;34m(self, widget_id, user_key)\u001B[0m\n\u001B[1;32m    442\u001B[0m \u001B[38;5;66;03m# We'll never get here\u001B[39;00m\n\u001B[0;32m--> 443\u001B[0m \u001B[38;5;28;01mraise\u001B[39;00m \u001B[38;5;167;01mKeyError\u001B[39;00m\n",
      "\u001B[0;31mKeyError\u001B[0m: ",
      "\nDuring handling of the above exception, another exception occurred:\n",
      "\u001B[0;31mKeyError\u001B[0m                                  Traceback (most recent call last)",
      "File \u001B[0;32m~/anaconda3/envs/llama/lib/python3.8/site-packages/streamlit/runtime/state/session_state_proxy.py:119\u001B[0m, in \u001B[0;36mSessionStateProxy.__getattr__\u001B[0;34m(self, key)\u001B[0m\n\u001B[1;32m    118\u001B[0m \u001B[38;5;28;01mtry\u001B[39;00m:\n\u001B[0;32m--> 119\u001B[0m     \u001B[38;5;28;01mreturn\u001B[39;00m \u001B[38;5;28;43mself\u001B[39;49m\u001B[43m[\u001B[49m\u001B[43mkey\u001B[49m\u001B[43m]\u001B[49m\n\u001B[1;32m    120\u001B[0m \u001B[38;5;28;01mexcept\u001B[39;00m \u001B[38;5;167;01mKeyError\u001B[39;00m:\n",
      "File \u001B[0;32m~/anaconda3/envs/llama/lib/python3.8/site-packages/streamlit/runtime/state/session_state_proxy.py:90\u001B[0m, in \u001B[0;36mSessionStateProxy.__getitem__\u001B[0;34m(self, key)\u001B[0m\n\u001B[1;32m     89\u001B[0m require_valid_user_key(key)\n\u001B[0;32m---> 90\u001B[0m \u001B[38;5;28;01mreturn\u001B[39;00m \u001B[43mget_session_state\u001B[49m\u001B[43m(\u001B[49m\u001B[43m)\u001B[49m\u001B[43m[\u001B[49m\u001B[43mkey\u001B[49m\u001B[43m]\u001B[49m\n",
      "File \u001B[0;32m~/anaconda3/envs/llama/lib/python3.8/site-packages/streamlit/runtime/state/safe_session_state.py:93\u001B[0m, in \u001B[0;36mSafeSessionState.__getitem__\u001B[0;34m(self, key)\u001B[0m\n\u001B[1;32m     92\u001B[0m \u001B[38;5;28;01mwith\u001B[39;00m \u001B[38;5;28mself\u001B[39m\u001B[38;5;241m.\u001B[39m_lock:\n\u001B[0;32m---> 93\u001B[0m     \u001B[38;5;28;01mreturn\u001B[39;00m \u001B[38;5;28;43mself\u001B[39;49m\u001B[38;5;241;43m.\u001B[39;49m\u001B[43m_state\u001B[49m\u001B[43m[\u001B[49m\u001B[43mkey\u001B[49m\u001B[43m]\u001B[49m\n",
      "File \u001B[0;32m~/anaconda3/envs/llama/lib/python3.8/site-packages/streamlit/runtime/state/session_state.py:400\u001B[0m, in \u001B[0;36mSessionState.__getitem__\u001B[0;34m(self, key)\u001B[0m\n\u001B[1;32m    399\u001B[0m \u001B[38;5;28;01mexcept\u001B[39;00m \u001B[38;5;167;01mKeyError\u001B[39;00m:\n\u001B[0;32m--> 400\u001B[0m     \u001B[38;5;28;01mraise\u001B[39;00m \u001B[38;5;167;01mKeyError\u001B[39;00m(_missing_key_error_message(key))\n",
      "\u001B[0;31mKeyError\u001B[0m: 'st.session_state has no key \"messages\". Did you forget to initialize it? More info: https://docs.streamlit.io/library/advanced-features/session-state#initialization'",
      "\nDuring handling of the above exception, another exception occurred:\n",
      "\u001B[0;31mAttributeError\u001B[0m                            Traceback (most recent call last)",
      "Cell \u001B[0;32mIn[11], line 3\u001B[0m\n\u001B[1;32m      1\u001B[0m \u001B[38;5;28;01mif\u001B[39;00m \u001B[38;5;124m\"\u001B[39m\u001B[38;5;124mmessages\u001B[39m\u001B[38;5;124m\"\u001B[39m \u001B[38;5;129;01mnot\u001B[39;00m \u001B[38;5;129;01min\u001B[39;00m st\u001B[38;5;241m.\u001B[39msession_state\u001B[38;5;241m.\u001B[39mkeys():\n\u001B[1;32m      2\u001B[0m     st\u001B[38;5;241m.\u001B[39msession_state\u001B[38;5;241m.\u001B[39mmessages \u001B[38;5;241m=\u001B[39m [{\u001B[38;5;124m\"\u001B[39m\u001B[38;5;124mrole\u001B[39m\u001B[38;5;124m\"\u001B[39m: \u001B[38;5;124m\"\u001B[39m\u001B[38;5;124massistant\u001B[39m\u001B[38;5;124m\"\u001B[39m, \u001B[38;5;124m\"\u001B[39m\u001B[38;5;124mcontent\u001B[39m\u001B[38;5;124m\"\u001B[39m: \u001B[38;5;124m\"\u001B[39m\u001B[38;5;124mHow may I help you?\u001B[39m\u001B[38;5;124m\"\u001B[39m}]\n\u001B[0;32m----> 3\u001B[0m     \u001B[38;5;28;01mfor\u001B[39;00m message \u001B[38;5;129;01min\u001B[39;00m \u001B[43mst\u001B[49m\u001B[38;5;241;43m.\u001B[39;49m\u001B[43msession_state\u001B[49m\u001B[38;5;241;43m.\u001B[39;49m\u001B[43mmessages\u001B[49m:\n\u001B[1;32m      4\u001B[0m         \u001B[38;5;28;01mwith\u001B[39;00m st\u001B[38;5;241m.\u001B[39mchat_message(message[\u001B[38;5;124m\"\u001B[39m\u001B[38;5;124mrole\u001B[39m\u001B[38;5;124m\"\u001B[39m]):\n\u001B[1;32m      5\u001B[0m             st\u001B[38;5;241m.\u001B[39mwrite(message[\u001B[38;5;124m\"\u001B[39m\u001B[38;5;124mcontent\u001B[39m\u001B[38;5;124m\"\u001B[39m])\n",
      "File \u001B[0;32m~/anaconda3/envs/llama/lib/python3.8/site-packages/streamlit/runtime/state/session_state_proxy.py:121\u001B[0m, in \u001B[0;36mSessionStateProxy.__getattr__\u001B[0;34m(self, key)\u001B[0m\n\u001B[1;32m    119\u001B[0m     \u001B[38;5;28;01mreturn\u001B[39;00m \u001B[38;5;28mself\u001B[39m[key]\n\u001B[1;32m    120\u001B[0m \u001B[38;5;28;01mexcept\u001B[39;00m \u001B[38;5;167;01mKeyError\u001B[39;00m:\n\u001B[0;32m--> 121\u001B[0m     \u001B[38;5;28;01mraise\u001B[39;00m \u001B[38;5;167;01mAttributeError\u001B[39;00m(_missing_attr_error_message(key))\n",
      "\u001B[0;31mAttributeError\u001B[0m: st.session_state has no attribute \"messages\". Did you forget to initialize it? More info: https://docs.streamlit.io/library/advanced-features/session-state#initialization"
     ]
    }
   ],
   "source": [
    "if \"messages\" not in st.session_state.keys():\n",
    "    st.session_state.messages = [{\"role\": \"assistant\", \"content\": \"How may I help you?\"}]\n",
    "    for message in st.session_state.messages:\n",
    "        with st.chat_message(message[\"role\"]):\n",
    "            st.write(message[\"content\"])\n",
    "if prompt := st.chat_input(disabled=not (hf_email and hf_pass)):\n",
    "    st.session_state.messages.append({\"role\": \"user\", \"content\": prompt})\n",
    "    with st.chat_message(\"user\"):\n",
    "        st.write(prompt)"
   ],
   "metadata": {
    "collapsed": false,
    "ExecuteTime": {
     "end_time": "2024-03-16T16:06:33.455413529Z",
     "start_time": "2024-03-16T16:06:33.366636541Z"
    }
   },
   "id": "178465c90c1ecb26",
   "execution_count": 11
  },
  {
   "cell_type": "code",
   "outputs": [],
   "source": [],
   "metadata": {
    "collapsed": false,
    "ExecuteTime": {
     "end_time": "2024-03-16T16:05:40.512600219Z",
     "start_time": "2024-03-16T16:05:40.498951716Z"
    }
   },
   "id": "a26eba5c0f7c893d",
   "execution_count": 9
  },
  {
   "cell_type": "code",
   "outputs": [],
   "source": [],
   "metadata": {
    "collapsed": false
   },
   "id": "f29d69a8a8116cfe"
  }
 ],
 "metadata": {
  "kernelspec": {
   "display_name": "Python 3",
   "language": "python",
   "name": "python3"
  },
  "language_info": {
   "codemirror_mode": {
    "name": "ipython",
    "version": 2
   },
   "file_extension": ".py",
   "mimetype": "text/x-python",
   "name": "python",
   "nbconvert_exporter": "python",
   "pygments_lexer": "ipython2",
   "version": "2.7.6"
  }
 },
 "nbformat": 4,
 "nbformat_minor": 5
}
